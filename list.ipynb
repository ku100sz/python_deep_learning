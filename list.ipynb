{
  "nbformat": 4,
  "nbformat_minor": 0,
  "metadata": {
    "colab": {
      "provenance": [],
      "authorship_tag": "ABX9TyN0p9AHH0w0oE1WlzL1+62E",
      "include_colab_link": true
    },
    "kernelspec": {
      "name": "python3",
      "display_name": "Python 3"
    },
    "language_info": {
      "name": "python"
    }
  },
  "cells": [
    {
      "cell_type": "markdown",
      "metadata": {
        "id": "view-in-github",
        "colab_type": "text"
      },
      "source": [
        "<a href=\"https://colab.research.google.com/github/ku100sz/python_deep_learning/blob/t5/list.ipynb\" target=\"_parent\"><img src=\"https://colab.research.google.com/assets/colab-badge.svg\" alt=\"Open In Colab\"/></a>"
      ]
    },
    {
      "cell_type": "code",
      "execution_count": 24,
      "metadata": {
        "colab": {
          "base_uri": "https://localhost:8080/"
        },
        "id": "QsS4V9pD8YU0",
        "outputId": "91fef95a-150b-40e3-953b-d2625ab7e2c0"
      },
      "outputs": [
        {
          "output_type": "stream",
          "name": "stdout",
          "text": [
            "true\n",
            "true\n",
            "true\n",
            "false\n",
            "false\n",
            "true\n",
            "true\n",
            "true\n",
            "false\n",
            "true\n",
            "true\n",
            "true\n",
            "true\n",
            "true\n",
            "false\n",
            "true\n",
            "false\n",
            "false\n",
            "false\n",
            "true\n",
            "true\n",
            "true\n",
            "false\n",
            "true\n",
            "true\n",
            "true\n",
            "true\n",
            "true\n",
            "false\n",
            "true\n",
            "false\n",
            "true\n",
            "false\n",
            "true\n",
            "true\n",
            "true\n",
            "false\n",
            "true\n",
            "true\n",
            "true\n",
            "true\n",
            "false\n",
            "true\n",
            "false\n",
            "false\n",
            "true\n",
            "false\n",
            "false\n",
            "true\n",
            "false\n",
            "false\n",
            "false\n",
            "true\n",
            "true\n",
            "true\n",
            "true\n",
            "false\n",
            "false\n",
            "true\n",
            "true\n",
            "false\n",
            "true\n",
            "true\n",
            "true\n",
            "false\n",
            "true\n",
            "true\n",
            "true\n",
            "true\n",
            "false\n",
            "true\n",
            "false\n",
            "true\n",
            "false\n",
            "false\n",
            "true\n",
            "false\n",
            "false\n",
            "false\n",
            "true\n",
            "true\n",
            "true\n",
            "false\n",
            "true\n",
            "false\n",
            "true\n",
            "false\n",
            "true\n",
            "false\n",
            "true\n",
            "false\n",
            "false\n",
            "false\n",
            "false\n",
            "true\n",
            "false\n",
            "false\n",
            "true\n",
            "false\n",
            "false\n"
          ]
        }
      ],
      "source": [
        "from checktriangle import checktriangle\n",
        "import random\n",
        "randlist=[[random.randint(1,100) for i in range(3)]for j in range(100)]\n",
        "for j in randlist:\n",
        "  print(j)\n",
        "  print(checktriangle(j[0],j[1],j[2]))"
      ]
    }
  ]
}